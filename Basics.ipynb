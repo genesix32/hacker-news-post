{
 "cells": [
  {
   "cell_type": "markdown",
   "metadata": {
    "collapsed": false
   },
   "source": [
    "# Guided Project - Exporting Hacker News Post\n",
    "\n",
    "### This project identified the hours of the day where"
   ]
  },
  {
   "cell_type": "code",
   "execution_count": 1,
   "metadata": {
    "collapsed": false
   },
   "outputs": [],
   "source": [
    "# Opens the file into a list of list\n",
    "from csv import reader\n",
    "open_file = open(\"hacker_news.csv\")\n",
    "read_file = reader(open_file)\n",
    "hn = list(read_file)"
   ]
  },
  {
   "cell_type": "code",
   "execution_count": 2,
   "metadata": {
    "collapsed": false
   },
   "outputs": [
    {
     "name": "stdout",
     "output_type": "stream",
     "text": [
      "['id', 'title', 'url', 'num_points', 'num_comments', 'author', 'created_at']\n",
      "\n",
      "\n",
      "['12224879', 'Interactive Dynamic Video', 'http://www.interactivedynamicvideo.com/', '386', '52', 'ne0phyte', '8/4/2016 11:52']\n"
     ]
    }
   ],
   "source": [
    "# Output a sample of how the dataset look like\n",
    "print(hn[0])\n",
    "print(\"\\n\")\n",
    "print(hn[1])"
   ]
  },
  {
   "cell_type": "code",
   "execution_count": 3,
   "metadata": {
    "collapsed": false
   },
   "outputs": [
    {
     "name": "stdout",
     "output_type": "stream",
     "text": [
      "[['12224879', 'Interactive Dynamic Video', 'http://www.interactivedynamicvideo.com/', '386', '52', 'ne0phyte', '8/4/2016 11:52'], ['10975351', 'How to Use Open Source and Shut the Fuck Up at the Same Time', 'http://hueniverse.com/2016/01/26/how-to-use-open-source-and-shut-the-fuck-up-at-the-same-time/', '39', '10', 'josep2', '1/26/2016 19:30'], ['11964716', \"Florida DJs May Face Felony for April Fools' Water Joke\", 'http://www.thewire.com/entertainment/2013/04/florida-djs-april-fools-water-joke/63798/', '2', '1', 'vezycash', '6/23/2016 22:20']]\n"
     ]
    }
   ],
   "source": [
    "# Remove header row and reassign to another variable\n",
    "headers = hn[0]\n",
    "hn = hn[1:]\n",
    "\n",
    "print(hn[:3])"
   ]
  },
  {
   "cell_type": "code",
   "execution_count": 4,
   "metadata": {
    "collapsed": false
   },
   "outputs": [],
   "source": [
    "# Filter posts with 'ask hn' and 'show hn' into a list\n",
    "ask_posts = []\n",
    "show_posts = []\n",
    "other_posts = []\n",
    "\n",
    "for row in hn:\n",
    "    title = row[1]\n",
    "    title = title.lower()\n",
    "    if title.startswith('ask hn'):\n",
    "        ask_posts.append(row)\n",
    "    elif title.startswith('show hn'):\n",
    "        show_posts.append(row)\n",
    "    else:\n",
    "        other_posts.append(row)"
   ]
  },
  {
   "cell_type": "code",
   "execution_count": 5,
   "metadata": {
    "collapsed": false
   },
   "outputs": [
    {
     "name": "stdout",
     "output_type": "stream",
     "text": [
      "1744\n",
      "1162\n",
      "17194\n",
      "['10610020', 'Ask HN: Am I the only one outraged by Twitter shutting down share counts?', '', '28', '29', 'tkfx', '11/22/2015 13:43']\n",
      "['10646440', 'Show HN: Something pointless I made', 'http://dn.ht/picklecat/', '747', '102', 'dhotson', '11/29/2015 22:46']\n"
     ]
    }
   ],
   "source": [
    "# Output number of objects in each list\n",
    "print(len(ask_posts))\n",
    "print(len(show_posts))\n",
    "print(len(other_posts))\n",
    "\n",
    "print(ask_posts[1])\n",
    "print(show_posts[1])"
   ]
  },
  {
   "cell_type": "code",
   "execution_count": 6,
   "metadata": {
    "collapsed": false
   },
   "outputs": [
    {
     "name": "stdout",
     "output_type": "stream",
     "text": [
      "14.038417431192661\n"
     ]
    }
   ],
   "source": [
    "# Calculate the average number of ask posts comments\n",
    "total_ask_comments = 0\n",
    "for row in ask_posts:\n",
    "    comments = row[4]\n",
    "    comments = int(comments)\n",
    "    total_ask_comments += comments\n",
    "\n",
    "avg_ask_comments = total_ask_comments/len(ask_posts)\n",
    "print(avg_ask_comments)"
   ]
  },
  {
   "cell_type": "code",
   "execution_count": 7,
   "metadata": {
    "collapsed": false
   },
   "outputs": [
    {
     "name": "stdout",
     "output_type": "stream",
     "text": [
      "10.31669535283993\n"
     ]
    }
   ],
   "source": [
    "# Calculate the average number of show posts comments\n",
    "total_show_comments = 0\n",
    "for row in show_posts:\n",
    "    comments = row[4]\n",
    "    comments = int(comments)\n",
    "    total_show_comments += comments\n",
    "    \n",
    "avg_show_comments = total_show_comments / len(show_posts)\n",
    "print (avg_show_comments)"
   ]
  },
  {
   "cell_type": "markdown",
   "metadata": {},
   "source": [
    "#### The result shows that there is 14 comments for ask posts and 10 comments for show post. The comments section is more active for ask posts. Therefore furthur analysis will be conducted using the ask posts dataset. \n",
    "\n",
    "The next step is to determine if ask posts created at a certain time are more likely to attract comments. "
   ]
  },
  {
   "cell_type": "code",
   "execution_count": 8,
   "metadata": {
    "collapsed": false
   },
   "outputs": [
    {
     "name": "stdout",
     "output_type": "stream",
     "text": [
      "[['8/16/2016 9:55', 6], ['11/22/2015 13:43', 29], ['5/2/2016 10:14', 1]]\n",
      "{'21': 1745, '02': 1381, '06': 397, '03': 421, '20': 1722, '01': 683, '23': 543, '04': 337, '12': 687, '09': 251, '18': 1439, '00': 447, '15': 4477, '05': 464, '19': 1188, '22': 479, '08': 492, '10': 793, '17': 1146, '11': 641, '13': 1253, '07': 267, '14': 1416, '16': 1814}\n",
      "{'21': 109, '02': 58, '06': 44, '03': 54, '20': 80, '01': 60, '23': 68, '04': 47, '12': 73, '09': 45, '18': 109, '00': 55, '15': 116, '05': 46, '19': 110, '22': 71, '08': 48, '10': 59, '17': 100, '11': 58, '13': 85, '07': 34, '14': 107, '16': 108}\n"
     ]
    }
   ],
   "source": [
    "# Calculate the amount of ask posts created during each hour of day and the number of comments received.\n",
    "import datetime as dt\n",
    "\n",
    "result_list = []\n",
    "\n",
    "for post in ask_posts:\n",
    "    result_list.append([post[6], int(post[4])]) # Cannot append individually\n",
    "    \n",
    "comments_by_hour = {}\n",
    "counts_by_hour = {}\n",
    "\n",
    "for each_row in result_list:\n",
    "    date = each_row[0]\n",
    "    comment = each_row[1]\n",
    "    time = dt.datetime.strptime(date, \"%m/%d/%Y %H:%M\") # String to Datetime\n",
    "    time = dt.datetime.strftime(time, \"%H\") # Datetime to String\n",
    "    if time in counts_by_hour:\n",
    "        comments_by_hour[time] += comment\n",
    "        counts_by_hour[time] += 1\n",
    "    else:\n",
    "        comments_by_hour[time] = comment\n",
    "        counts_by_hour[time] = 1\n",
    "\n",
    "print(result_list[:3])\n",
    "print(comments_by_hour) # Total number of comments per hour\n",
    "print(counts_by_hour) # Total number of posts per hour"
   ]
  },
  {
   "cell_type": "code",
   "execution_count": 12,
   "metadata": {
    "collapsed": false
   },
   "outputs": [
    {
     "name": "stdout",
     "output_type": "stream",
     "text": [
      "[['21', 16.009174311926607], ['02', 23.810344827586206], ['06', 9.022727272727273], ['03', 7.796296296296297], ['20', 21.525], ['01', 11.383333333333333], ['23', 7.985294117647059], ['04', 7.170212765957447], ['12', 9.41095890410959], ['09', 5.5777777777777775], ['18', 13.20183486238532], ['00', 8.127272727272727], ['15', 38.5948275862069], ['05', 10.08695652173913], ['19', 10.8], ['22', 6.746478873239437], ['08', 10.25], ['10', 13.440677966101696], ['17', 11.46], ['11', 11.051724137931034], ['13', 14.741176470588234], ['07', 7.852941176470588], ['14', 13.233644859813085], ['16', 16.796296296296298]]\n"
     ]
    }
   ],
   "source": [
    "#Appending comments by hour and counts by hour into a list for processing\n",
    "avg_by_hour = []\n",
    "\n",
    "for hr in comments_by_hour:\n",
    "    avg_by_hour.append([hr, comments_by_hour[hr] / counts_by_hour[hr]])\n",
    "    \n",
    "print(avg_by_hour)"
   ]
  },
  {
   "cell_type": "code",
   "execution_count": 26,
   "metadata": {
    "collapsed": false
   },
   "outputs": [
    {
     "data": {
      "text/plain": [
       "[[38.5948275862069, '15'],\n",
       " [23.810344827586206, '02'],\n",
       " [21.525, '20'],\n",
       " [16.796296296296298, '16'],\n",
       " [16.009174311926607, '21'],\n",
       " [14.741176470588234, '13'],\n",
       " [13.440677966101696, '10'],\n",
       " [13.233644859813085, '14'],\n",
       " [13.20183486238532, '18'],\n",
       " [11.46, '17'],\n",
       " [11.383333333333333, '01'],\n",
       " [11.051724137931034, '11'],\n",
       " [10.8, '19'],\n",
       " [10.25, '08'],\n",
       " [10.08695652173913, '05'],\n",
       " [9.41095890410959, '12'],\n",
       " [9.022727272727273, '06'],\n",
       " [8.127272727272727, '00'],\n",
       " [7.985294117647059, '23'],\n",
       " [7.852941176470588, '07'],\n",
       " [7.796296296296297, '03'],\n",
       " [7.170212765957447, '04'],\n",
       " [6.746478873239437, '22'],\n",
       " [5.5777777777777775, '09']]"
      ]
     },
     "execution_count": 26,
     "metadata": {},
     "output_type": "execute_result"
    }
   ],
   "source": [
    "#Sorts the result from the highest to lowest number of comments\n",
    "swap_avg_by_hour = []\n",
    "\n",
    "for row in avg_by_hour:\n",
    "    swap_avg_by_hour.append([row[1], row[0]])\n",
    "\n",
    "sorted_swap = sorted(swap_avg_by_hour, reverse = True)\n",
    "\n",
    "sorted_swap"
   ]
  },
  {
   "cell_type": "code",
   "execution_count": null,
   "metadata": {
    "collapsed": false
   },
   "outputs": [],
   "source": [
    "print(\"Top 5 Hours for Ask Post Comments\")\n",
    "for row in sorted_swap[:5]:\n",
    "    comments = row[0]\n",
    "    time = dt.datetime.strptime(row[1], \"%H\") # String to Datetime\n",
    "    time = dt.datetime.strftime(time, \"%H:%M\") # Datetime to String\n",
    "    \n",
    "    template = \"{}:{:,.2f} average comments per post\"\n",
    "    output = template.format(time, comments)\n",
    "    print(output)"
   ]
  },
  {
   "cell_type": "markdown",
   "metadata": {},
   "source": [
    "# Conclusion\n",
    "\n",
    "In this project, we analyzed ask posts and show posts to determine which type of post and time receive the most comments on average. Based on our analysis, to maximize the amount of comments a post receives, we'd recommend the post be categorized as ask post and created between 15:00 and 16:00 (3:00 pm est - 4:00 pm est).\n",
    "\n",
    "However, it should be noted that the data set we analyzed excluded posts without any comments. Given that, it's more accurate to say that of the posts that received comments, ask posts received more comments on average and ask posts created between 15:00 and 16:00 (3:00 pm est - 4:00 pm est) received the most comments on average."
   ]
  }
 ],
 "metadata": {
  "kernelspec": {
   "display_name": "Python 3",
   "language": "python",
   "name": "python3"
  },
  "language_info": {
   "codemirror_mode": {
    "name": "ipython",
    "version": 3
   },
   "file_extension": ".py",
   "mimetype": "text/x-python",
   "name": "python",
   "nbconvert_exporter": "python",
   "pygments_lexer": "ipython3",
   "version": "3.4.3"
  }
 },
 "nbformat": 4,
 "nbformat_minor": 2
}
